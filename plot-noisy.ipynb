{
 "cells": [
  {
   "cell_type": "code",
   "execution_count": null,
   "id": "b8a9e86f-f44e-4f31-a0fd-c4f1c26adab9",
   "metadata": {},
   "outputs": [],
   "source": [
    "import os\n",
    "import json\n",
    "import numpy as np\n",
    "import pandas as pd\n",
    "from glob import glob"
   ]
  },
  {
   "cell_type": "code",
   "execution_count": null,
   "id": "327a45c9-3073-4c8b-ba3b-47d8052fb5cf",
   "metadata": {},
   "outputs": [],
   "source": [
    "import matplotlib.pyplot as plt\n",
    "%matplotlib inline\n",
    "import matplotlib\n",
    "from matplotlib.ticker import FuncFormatter\n",
    "\n",
    "matplotlib.rcParams.update({'font.size': 22})"
   ]
  },
  {
   "cell_type": "code",
   "execution_count": null,
   "id": "29cd9d6c-e15d-4479-901e-39303759e2e4",
   "metadata": {},
   "outputs": [],
   "source": [
    "PLOT_DIR = './plots/'\n",
    "os.makedirs(PLOT_DIR, exist_ok=True)"
   ]
  },
  {
   "cell_type": "code",
   "execution_count": null,
   "id": "c14841f0-ae4b-4fc0-9e93-4949d70b2787",
   "metadata": {},
   "outputs": [],
   "source": [
    "PATH = './runs/noisy/*.json'"
   ]
  },
  {
   "cell_type": "code",
   "execution_count": null,
   "id": "fdfac9d4-bf5d-49c3-a6a4-521c966fa362",
   "metadata": {},
   "outputs": [],
   "source": [
    "df = pd.DataFrame()\n",
    "\n",
    "for fn in glob(PATH):\n",
    "    g = os.path.basename(fn).split('.')[0]\n",
    "    ds, tf, m, seed = g.split('__')\n",
    "\n",
    "    with open(fn, 'r') as f:\n",
    "        jdir = json.load(f)\n",
    "        data_keys = list(jdir.keys())\n",
    "        data_keys_diff = [l + '_diff' for l in list(jdir.keys())]\n",
    "    jdir['method'] = m\n",
    "    jdir['dataset'] = ds\n",
    "    jdir['transformation'] = tf\n",
    "    jdir['seed'] = int(seed)\n",
    "    tmp_df = pd.DataFrame([jdir])\n",
    "    tmp_df[data_keys_diff] = tmp_df[data_keys]\n",
    "\n",
    "    df = pd.concat([df, tmp_df])\n",
    "\n",
    "for k in data_keys_diff:\n",
    "    df[k] = df[k] - df['0']"
   ]
  },
  {
   "cell_type": "code",
   "execution_count": null,
   "id": "805e150e-3c4f-4317-87fc-d243247bc80c",
   "metadata": {},
   "outputs": [],
   "source": [
    "def percentage(x, pos):\n",
    "    return f'{x:.0f}%'\n",
    "\n",
    "for ds in sorted(df['dataset'].unique()):\n",
    "    for tf in sorted(df['transformation'].unique()):\n",
    "        print(ds, tf)\n",
    "        fig, axs = plt.subplots(nrows=2, figsize=(10, 7), sharex=True)  # Create subplots with shared x-axis\n",
    "\n",
    "        ax1, ax2 = axs  # Separate axes for the two plots\n",
    "        x = [float(d) for d in data_keys]\n",
    "\n",
    "        handles = []\n",
    "        for m in sorted(df['method'].unique()):\n",
    "            tmp_df = df.query(f'`dataset`==\"{ds}\" & `transformation`==\"{tf}\" & `method`==\"{m}\"')\n",
    "\n",
    "            y = tmp_df[data_keys].mean()\n",
    "            std = tmp_df[data_keys].std()\n",
    "            \n",
    "            r_upper = y + std\n",
    "            r_lower = y - std\n",
    "\n",
    "            l, = ax1.plot(x, y, label=m, linestyle='-', marker='x')\n",
    "            ax1.fill_between(x, r_upper, r_lower, alpha=0.3)\n",
    "            handles.append(l)\n",
    "\n",
    "            y_diff = tmp_df[data_keys_diff].mean()\n",
    "            std_diff = tmp_df[data_keys_diff].std()\n",
    "            \n",
    "            r_upper_diff = y_diff + std_diff\n",
    "            r_lower_diff = y_diff - std_diff\n",
    "            \n",
    "            ax2.plot(x, y_diff, label=m, linestyle='-', marker='x')\n",
    "            ax2.fill_between(x, r_upper_diff, r_lower_diff, alpha=0.3)\n",
    "        \n",
    "        if tf != 'Scale':\n",
    "            handles = handles[3:]\n",
    "        else:\n",
    "            handles = handles[:3]\n",
    "            ax1.set_ylabel('Accuracy')\n",
    "            ax2.set_ylabel('Accuracy Difference')\n",
    "        ax1.set_xlabel('Percentage of added Noise')\n",
    "        ax1.xaxis.set_label_position('top') \n",
    "        ax2.legend(handles=handles, loc='upper center', ncol=3, bbox_to_anchor=(0.5, -.09), fancybox=False, frameon=False)\n",
    "        ax2.xaxis.set_major_formatter(FuncFormatter(percentage))\n",
    "\n",
    "        plt.savefig(f'{PLOT_DIR}/{ds}_{tf}_noisy_plots.pdf', bbox_inches='tight')\n",
    "        plt.show()"
   ]
  }
 ],
 "metadata": {
  "kernelspec": {
   "display_name": "Python 3 (ipykernel)",
   "language": "python",
   "name": "python3"
  },
  "language_info": {
   "codemirror_mode": {
    "name": "ipython",
    "version": 3
   },
   "file_extension": ".py",
   "mimetype": "text/x-python",
   "name": "python",
   "nbconvert_exporter": "python",
   "pygments_lexer": "ipython3",
   "version": "3.10.12"
  }
 },
 "nbformat": 4,
 "nbformat_minor": 5
}
