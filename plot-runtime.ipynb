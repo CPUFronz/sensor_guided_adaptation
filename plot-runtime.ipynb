{
 "cells": [
  {
   "cell_type": "code",
   "execution_count": null,
   "id": "50da5de0-97a5-4084-bdbc-a7f8010152f3",
   "metadata": {},
   "outputs": [],
   "source": [
    "import pandas as pd"
   ]
  },
  {
   "cell_type": "code",
   "execution_count": null,
   "id": "0984b67f-2567-4631-b904-286355f8b93a",
   "metadata": {},
   "outputs": [],
   "source": [
    "import matplotlib.pyplot as plt\n",
    "%matplotlib inline\n",
    "import matplotlib\n",
    "\n",
    "matplotlib.rcParams.update({'font.size': 20})"
   ]
  },
  {
   "cell_type": "code",
   "execution_count": null,
   "id": "b0358179-811e-4a3b-93e4-8c2e9bd6effb",
   "metadata": {},
   "outputs": [],
   "source": [
    "PLOT_DIR = './plots/'"
   ]
  },
  {
   "cell_type": "code",
   "execution_count": null,
   "id": "c271fbef-04fa-49fa-8b34-eae0964d89c7",
   "metadata": {},
   "outputs": [],
   "source": [
    "df = pd.read_csv('runs/benchmark.csv')\n",
    "df['Total'] = df[['Inference', 'Invert', 'Hypernetwork', 'Configuration']].sum(axis=1)"
   ]
  },
  {
   "cell_type": "code",
   "execution_count": null,
   "id": "77e4a325-75ca-4d35-b8ec-17cb73e1dac4",
   "metadata": {},
   "outputs": [],
   "source": [
    "fig, ax = plt.subplots(figsize=(11.5, 7))\n",
    "\n",
    "df_m = df.groupby(['Model']).mean().reset_index().fillna(0)\n",
    "labels = df_m['Model'].unique()\n",
    "\n",
    "y1 = df_m['Inference']\n",
    "y2 = df_m['Invert']\n",
    "y3 = df_m['Hypernetwork']\n",
    "y4 = df_m['Configuration']\n",
    "\n",
    "ax.bar(labels, y1, label='Inference')\n",
    "ax.bar(labels, y2, bottom=y1, label='Invert')\n",
    "ax.bar(labels, y3, bottom=y1+y2, label='Hypernetwork')\n",
    "ax.bar(labels, y4, bottom=y1+y2+y3, label='Configuration')\n",
    "\n",
    "ax.set_ylabel('Time (µs)')\n",
    "ax.set_ylim(0, 3000)\n",
    "\n",
    "plt.legend()\n",
    "plt.tight_layout()\n",
    "\n",
    "plt.savefig(f'{PLOT_DIR}/runtime.pdf',  bbox_inches='tight')"
   ]
  }
 ],
 "metadata": {
  "kernelspec": {
   "display_name": "Python 3 (ipykernel)",
   "language": "python",
   "name": "python3"
  },
  "language_info": {
   "codemirror_mode": {
    "name": "ipython",
    "version": 3
   },
   "file_extension": ".py",
   "mimetype": "text/x-python",
   "name": "python",
   "nbconvert_exporter": "python",
   "pygments_lexer": "ipython3",
   "version": "3.10.12"
  }
 },
 "nbformat": 4,
 "nbformat_minor": 5
}
