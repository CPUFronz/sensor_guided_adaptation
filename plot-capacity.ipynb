{
 "cells": [
  {
   "cell_type": "code",
   "execution_count": null,
   "id": "98348d02-1fe0-4f36-8497-0588da36d676",
   "metadata": {},
   "outputs": [],
   "source": [
    "import re\n",
    "import os\n",
    "import json\n",
    "import math\n",
    "from glob import glob\n",
    "from collections import defaultdict\n",
    "\n",
    "import numpy as np\n",
    "import pandas as pd\n",
    "import wandb"
   ]
  },
  {
   "cell_type": "code",
   "execution_count": null,
   "id": "9251eca8-0085-4003-b7e4-33bfcfe52cf8",
   "metadata": {},
   "outputs": [],
   "source": [
    "import matplotlib.pyplot as plt\n",
    "%matplotlib inline\n",
    "import matplotlib\n",
    "\n",
    "matplotlib.rcParams.update({'font.size': 20})"
   ]
  },
  {
   "cell_type": "code",
   "execution_count": null,
   "id": "55bc515a-680e-4831-b60f-cfc55a8ba2d9",
   "metadata": {},
   "outputs": [],
   "source": [
    "from constants import WANDB_PROJECT"
   ]
  },
  {
   "cell_type": "code",
   "execution_count": null,
   "id": "82076b73-9748-4efa-8b32-84e3023b6f00",
   "metadata": {},
   "outputs": [],
   "source": [
    "PLOT_DIR = './plots/'\n",
    "os.makedirs(PLOT_DIR, exist_ok=True)"
   ]
  },
  {
   "cell_type": "code",
   "execution_count": null,
   "id": "5a51af24-e1ce-490f-891a-0363fa7e6859",
   "metadata": {},
   "outputs": [],
   "source": [
    "%%time\n",
    "api = wandb.Api(timeout=30)\n",
    "runs = api.runs(WANDB_PROJECT)\n",
    "\n",
    "pattern = r\"^(.*?)\\s(.*?)\\s(.*)$\"\n",
    "df = pd.DataFrame()\n",
    "\n",
    "for run in runs:\n",
    "    if run.state != 'finished' or '(' in run.name or 'CIFAR10 Rotation' not in run.name or \\\n",
    "     '_n-' in run.name:\n",
    "        continue\n",
    "\n",
    "    match = re.match(pattern, run.name)\n",
    "    if match:\n",
    "        opt = {k: v['value'] for k, v in json.loads(run.json_config).items()}\n",
    "        opt['n_params'] = int(opt['orig_n_params']) if 'orig_n_params' in opt else opt['n_params']\n",
    "        tmp_df = pd.DataFrame(run.scan_history())\n",
    "        dataset = match.group(1)\n",
    "        transformation = match.group(2)\n",
    "        method = match.group(3)\n",
    "        tmp_df['id'] = run.id\n",
    "        mean_acc = tmp_df.dropna(subset=['Accuracy per Angle'])['Accuracy per Angle'].mean()\n",
    "        std_acc = tmp_df.dropna(subset=['Accuracy per Angle'])['Accuracy per Angle'].std()\n",
    "        df = pd.concat([df, pd.DataFrame({'accuracy': mean_acc, 'std': std_acc, 'dataset': dataset, 'transformation': transformation, 'method': method, 'n_params': opt['n_params']}, index=[0])])"
   ]
  },
  {
   "cell_type": "code",
   "execution_count": null,
   "id": "540a97a1-0bb0-43ae-9e9c-41d08abfa56c",
   "metadata": {},
   "outputs": [],
   "source": [
    "df = df.sort_values(['method'])\n",
    "df.replace('SCN D=3', 'SCN D=3 N=28', inplace=True)\n",
    "df.replace('SCN D=5', 'SCN D=5 N=28', inplace=True)\n",
    "\n",
    "# move extra methods to the end, to ensure that the colors in all plots are consistently the same\n",
    "for m in ['DA 4x', 'SCN D=5 N=56', 'SCN D=5 N=114']:\n",
    "    mask = df['method'] == m\n",
    "    df_not_masked = df[~mask]\n",
    "    df_masked = df[mask]\n",
    "    df = pd.concat([df_not_masked, df_masked])"
   ]
  },
  {
   "cell_type": "code",
   "execution_count": null,
   "id": "232982ba-994b-47ef-b9d7-b15117d4851f",
   "metadata": {},
   "outputs": [],
   "source": [
    "for ds in df['dataset'].unique():\n",
    "    for tf in df['transformation'].unique():\n",
    "        fig = plt.figure(figsize=(10, 5))\n",
    "\n",
    "        for m in df['method'].unique():\n",
    "            tmp_df = df.query(f'dataset == \"{ds}\" and transformation == \"{tf}\" and method == \"{m}\"')\n",
    "            vals = tmp_df[['accuracy', 'n_params', 'std']].mean().to_numpy()\n",
    "\n",
    "            mkr_size = 6\n",
    "            if m == 'Baseline':\n",
    "                mkr = '+'\n",
    "            elif m == 'Inverse':\n",
    "                mkr = 'x'\n",
    "            elif 'DA' in m:\n",
    "                mkr = 's'\n",
    "                if '2' in m:\n",
    "                    mkr_size = 6#8\n",
    "                elif '4' in m:\n",
    "                    mkr_size = 8#12\n",
    "                else:\n",
    "                    mkr_size = 4\n",
    "            elif 'SCN' in m:\n",
    "                mkr = 'o'\n",
    "                if '56' in m:\n",
    "                    mkr_size = 6\n",
    "                elif '114' in m:\n",
    "                    mkr_size = 8#12\n",
    "                else:\n",
    "                    mkr_size = 4\n",
    "            \n",
    "            markers, caps, bars = plt.errorbar(x=vals[1], y=vals[0], label=m, yerr=vals[2], fmt=mkr, capsize=12, markersize=mkr_size*2)\n",
    "        plt.xscale('log')\n",
    "        plt.legend(loc='upper center', bbox_to_anchor=(0.5, 1.39), fancybox=False, frameon=False, ncol=3)\n",
    "        plt.xlabel('Number of Parameters')\n",
    "        plt.ylabel('Accuracy')\n",
    "        \n",
    "        plt.savefig(f'{PLOT_DIR}/acc_parameters.pdf',  bbox_inches='tight')   \n",
    "        plt.show()"
   ]
  }
 ],
 "metadata": {
  "kernelspec": {
   "display_name": "Python 3 (ipykernel)",
   "language": "python",
   "name": "python3"
  },
  "language_info": {
   "codemirror_mode": {
    "name": "ipython",
    "version": 3
   },
   "file_extension": ".py",
   "mimetype": "text/x-python",
   "name": "python",
   "nbconvert_exporter": "python",
   "pygments_lexer": "ipython3",
   "version": "3.10.12"
  }
 },
 "nbformat": 4,
 "nbformat_minor": 5
}
