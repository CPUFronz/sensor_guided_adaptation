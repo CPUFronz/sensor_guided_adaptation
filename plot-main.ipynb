{
 "cells": [
  {
   "cell_type": "code",
   "execution_count": null,
   "id": "78172952-f569-40c1-a267-5a08a07c63ed",
   "metadata": {},
   "outputs": [],
   "source": [
    "import os\n",
    "import re\n",
    "import wandb\n",
    "import numpy as np\n",
    "import pandas as pd"
   ]
  },
  {
   "cell_type": "code",
   "execution_count": null,
   "id": "f5426d5d-d504-4bbd-91a3-81400f4c96db",
   "metadata": {},
   "outputs": [],
   "source": [
    "import matplotlib.pyplot as plt\n",
    "%matplotlib inline\n",
    "import matplotlib\n",
    "\n",
    "matplotlib.rcParams.update({'font.size': 22})"
   ]
  },
  {
   "cell_type": "code",
   "execution_count": null,
   "id": "830f9832-64b8-44a9-a657-3bf15399fc0a",
   "metadata": {},
   "outputs": [],
   "source": [
    "from constants import WANDB_PROJECT"
   ]
  },
  {
   "cell_type": "code",
   "execution_count": null,
   "id": "443c811d-9d2d-4b35-8c5e-a8fe72897277",
   "metadata": {},
   "outputs": [],
   "source": [
    "PLOT_DIR = './plots/'\n",
    "os.makedirs(PLOT_DIR, exist_ok=True)"
   ]
  },
  {
   "cell_type": "markdown",
   "id": "2f832f08-b187-4212-8e30-7cc383f2fbd2",
   "metadata": {},
   "source": [
    "## Load Data"
   ]
  },
  {
   "cell_type": "code",
   "execution_count": null,
   "id": "05f46758-0c6a-4555-8cf5-6c3e9ef8edb3",
   "metadata": {},
   "outputs": [],
   "source": [
    "%%time\n",
    "api = wandb.Api(timeout=30)\n",
    "runs = api.runs(WANDB_PROJECT)\n",
    "\n",
    "pattern = r\"^(.*?)\\s(.*?)\\s(.*)$\"\n",
    "df = pd.DataFrame()\n",
    "df_cap = pd.DataFrame()\n",
    "\n",
    "for run in runs:\n",
    "    if run.state == 'running' or 'N=' in run.name or '4x' in run.name:\n",
    "        continue\n",
    "    \n",
    "    tmp_df = pd.DataFrame(run.scan_history())\n",
    "    tmp_df['id'] = run.id\n",
    "    \n",
    "    match = re.match(pattern, run.name)\n",
    "    if match:\n",
    "        dataset = match.group(1)\n",
    "        transformation = match.group(2)\n",
    "        method = match.group(3)\n",
    "        tmp_df['dataset'] = dataset\n",
    "        tmp_df['transformation'] = transformation\n",
    "        tmp_df['method'] = method\n",
    "        \n",
    "        df = pd.concat([df, tmp_df])\n",
    "\n",
    "df = df.drop(columns=['_runtime', '_timestamp'])\n",
    "df = df.drop(columns=['_step'])"
   ]
  },
  {
   "cell_type": "markdown",
   "id": "5ce72c35-562f-4a8f-b10c-4fa808ec55d0",
   "metadata": {},
   "source": [
    "## Accuracy for different Values"
   ]
  },
  {
   "cell_type": "code",
   "execution_count": null,
   "id": "17cb6620-2273-4277-9af7-a916d59b70ce",
   "metadata": {},
   "outputs": [],
   "source": [
    "def scatter(ax, x, y, error, name, ymax=1):\n",
    "    r_upper = y + error\n",
    "    r_lower = y - error\n",
    "    ax.plot(x, y, label=name, linestyle='-')\n",
    "    ax.fill_between(x, r_upper, r_lower, alpha=0.3)\n",
    "    ax.set_xlabel('Scale Factor')\n",
    "    ax.set_ylabel('Accuracy')\n",
    "    ax.set_ylim([0, ymax])\n",
    "\n",
    "def polar(ax, x, y, error, name, ymax=1):\n",
    "    x = np.linspace(0, 2 * np.pi, 360)\n",
    "    r_upper = y + error\n",
    "    r_lower = y - error\n",
    "    ax.plot(x, y, label=name, linestyle='-')\n",
    "    ax.fill_between(x, r_upper, r_lower, alpha=0.3)\n",
    "    ax.set_ylim([0, ymax])\n",
    "    if ymax == 0.8:\n",
    "        ax.set_rticks([0.2, 0.4, 0.6, 0.8])\n",
    "    for label in ax.get_yticklabels():\n",
    "        label.set_fontsize(16)\n",
    "        label.set_color('gray')\n",
    "\n",
    "\n",
    "plot_fun = {\n",
    "    'Rotation': polar,\n",
    "    'Scale': scatter\n",
    "}"
   ]
  },
  {
   "cell_type": "code",
   "execution_count": null,
   "id": "0bd7361c-ecc2-4ec2-a85b-fd4c6c8583ee",
   "metadata": {},
   "outputs": [],
   "source": [
    "for ds in df['dataset'].unique():\n",
    "    for tf in df['transformation'].unique():\n",
    "        print(ds, tf)\n",
    "        \n",
    "        if tf == 'Rotation':\n",
    "            target_col = 'Accuracy per Angle'\n",
    "            target_x = 'Angle'\n",
    "            \n",
    "            fig, ax = plt.subplots(subplot_kw={'projection': 'polar'}, figsize=(10,10))\n",
    "            ax.set_rlabel_position(75)\n",
    "            ax.set_theta_zero_location('N')\n",
    "            ax.set_theta_direction(1)\n",
    "            \n",
    "        elif tf == 'Scale':\n",
    "            target_col = 'Accuracy per Scale Factor'\n",
    "            target_x = 'Scale Factor'\n",
    "\n",
    "            fig, ax = plt.subplots(figsize=(10,3))\n",
    "\n",
    "        tmp_df = df.query(f'`dataset`==\"{ds}\" & `transformation`==\"{tf}\" & `{target_col}`.notna()').dropna(axis=1)\n",
    "        accuracy_mean = tmp_df.groupby([target_x, 'method'])[target_col].mean().reset_index()\n",
    "        accuracy_std = tmp_df.groupby([target_x, 'method'])[target_col].std().reset_index()\n",
    "\n",
    "        for i, m in enumerate(accuracy_mean['method'].unique()):\n",
    "            x = accuracy_mean.query(f'`method`==\"{m}\"')[target_x].to_numpy()\n",
    "            y = accuracy_mean.query(f'`method`==\"{m}\"')[target_col].to_numpy()\n",
    "            error = accuracy_std.query(f'`method`==\"{m}\"')[target_col].to_numpy()\n",
    "\n",
    "            if ds == 'CIFAR10':\n",
    "                ymax = 0.8\n",
    "            else:\n",
    "                ymax = 1\n",
    "                \n",
    "            plot_fun[tf](ax, x, y, error, m, ymax)\n",
    "\n",
    "        if ds == 'CIFAR10' and tf == 'Scale':\n",
    "            ax.legend(loc='upper center', bbox_to_anchor=(0.5, -0.4), fancybox=False, frameon=False, ncol=3)\n",
    "        if ds == 'GTSRB' and tf == 'Scale':\n",
    "            ax.get_xaxis().set_visible(False)\n",
    "        plt.savefig(f'{PLOT_DIR}/{ds}_{tf}_acc.pdf',  bbox_inches='tight')\n",
    "        plt.show()"
   ]
  }
 ],
 "metadata": {
  "kernelspec": {
   "display_name": "Python 3 (ipykernel)",
   "language": "python",
   "name": "python3"
  },
  "language_info": {
   "codemirror_mode": {
    "name": "ipython",
    "version": 3
   },
   "file_extension": ".py",
   "mimetype": "text/x-python",
   "name": "python",
   "nbconvert_exporter": "python",
   "pygments_lexer": "ipython3",
   "version": "3.10.12"
  }
 },
 "nbformat": 4,
 "nbformat_minor": 5
}
