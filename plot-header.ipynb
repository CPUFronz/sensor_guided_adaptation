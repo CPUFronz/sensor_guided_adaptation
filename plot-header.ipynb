{
 "cells": [
  {
   "cell_type": "code",
   "execution_count": null,
   "id": "dd9d580b-b9ea-4713-bf27-1ef87066a6a5",
   "metadata": {},
   "outputs": [],
   "source": [
    "import os\n",
    "from types import SimpleNamespace\n",
    "\n",
    "import cv2\n",
    "import numpy as np\n",
    "import matplotlib.pyplot as plt\n",
    "\n",
    "from utils import loaders_gtsrb\n",
    "from constants import SCALE_MIN, SCALE_MAX"
   ]
  },
  {
   "cell_type": "code",
   "execution_count": null,
   "id": "ebc585a9-8251-4d9c-86c5-689ae021c09f",
   "metadata": {},
   "outputs": [],
   "source": [
    "import matplotlib\n",
    "matplotlib.rc('font', size=24)"
   ]
  },
  {
   "cell_type": "code",
   "execution_count": null,
   "id": "7acc948e-4b46-45c2-ae97-8be311010491",
   "metadata": {},
   "outputs": [],
   "source": [
    "PLOT_DIR = './plots/'\n",
    "os.makedirs(PLOT_DIR, exist_ok=True)"
   ]
  },
  {
   "cell_type": "code",
   "execution_count": null,
   "id": "1e8b4ed3-ab5b-435c-902d-876b73e495c4",
   "metadata": {},
   "outputs": [],
   "source": [
    "opt = SimpleNamespace(img_size=32, batch_size=1, device='cpu', seed=0, num_workers=4)\n",
    "_, _, _ = loaders_gtsrb(opt)"
   ]
  },
  {
   "cell_type": "code",
   "execution_count": null,
   "id": "b84f0fe7-8e9b-4a11-9af3-93a04ab0f3af",
   "metadata": {},
   "outputs": [],
   "source": [
    "def rotate_image(image, angle):\n",
    "    h, w = image.shape[:2]\n",
    "    cx, cy = w // 2, h // 2\n",
    "    M = cv2.getRotationMatrix2D((cx, cy), angle, 1.0)\n",
    "    rotated = cv2.warpAffine (image, M, (w, h))\n",
    "    return rotated\n",
    "\n",
    "def scale_image(image, factor):\n",
    "    h, w = image.shape[:2]\n",
    "    cx, cy = w // 2, h // 2\n",
    "    M = cv2.getRotationMatrix2D((cx, cy), 0.0, factor)\n",
    "    scaled = cv2.warpAffine (image, M, (w, h))\n",
    "    return scaled"
   ]
  },
  {
   "cell_type": "code",
   "execution_count": null,
   "id": "5586fd98-1a7a-4c5b-88dd-62f214d95f86",
   "metadata": {},
   "outputs": [],
   "source": [
    "img = cv2.imread('./data/gtsrb/GTSRB/Final_Test/Images/00051.ppm')\n",
    "img = np.flip(img, axis=-1) \n",
    "\n",
    "angles = list(range(0, 360, 30))\n",
    "fig, axs = plt.subplots(2, 6, figsize=(26, 8))\n",
    "\n",
    "img_idx = 0\n",
    "for ax_row in axs:\n",
    "    for ax in ax_row:        \n",
    "        rotated_img = rotate_image(img, angles[img_idx])\n",
    "        rotated_img = np.flip(rotated_img, axis=-1) \n",
    "        ax.imshow(cv2.cvtColor(rotated_img, cv2.COLOR_BGR2RGB))\n",
    "        ax.set_title(f'{angles[img_idx]}°')\n",
    "\n",
    "        ax.axis('off')\n",
    "        img_idx += 1\n",
    "\n",
    "plt.subplots_adjust(hspace=0, wspace=0)\n",
    "plt.tight_layout()\n",
    "plt.savefig(f'{PLOT_DIR}/header-rotate.png', bbox_inches='tight', pad_inches=0)\n",
    "plt.show()"
   ]
  },
  {
   "cell_type": "code",
   "execution_count": null,
   "id": "f82d2ad8-d2ae-4e23-9db1-fdead13c7217",
   "metadata": {},
   "outputs": [],
   "source": [
    "img = cv2.imread('./data/gtsrb/GTSRB/Final_Test/Images/00230.ppm')\n",
    "#153, 209, 224, 230, 251, 261, 303, 407, \n",
    "\n",
    "img = np.flip(img, axis=-1) \n",
    "\n",
    "factors = [0.2, 0.3, 0.5, 0.7, 0.9, 1.0, 1.1, 1.2, 1.4, 1.6, 1.8, 2.]\n",
    "fig, axs = plt.subplots(2, 6, figsize=(26, 8))\n",
    "\n",
    "img_idx = 0\n",
    "for ax_row in axs:\n",
    "    for ax in ax_row:        \n",
    "        scaled_image = scale_image(img, factors[img_idx])\n",
    "        scaled_image = np.flip(scaled_image, axis=-1) \n",
    "        ax.imshow(cv2.cvtColor(scaled_image, cv2.COLOR_BGR2RGB))\n",
    "        ax.set_title(f'{factors[img_idx]:.1f}')\n",
    "\n",
    "        ax.axis('off')\n",
    "        img_idx += 1\n",
    "\n",
    "plt.subplots_adjust(hspace=0, wspace=0)\n",
    "plt.tight_layout()\n",
    "plt.savefig(f'{PLOT_DIR}/header-scale.png', bbox_inches='tight', pad_inches=0)\n",
    "plt.show()"
   ]
  }
 ],
 "metadata": {
  "kernelspec": {
   "display_name": "Python 3 (ipykernel)",
   "language": "python",
   "name": "python3"
  },
  "language_info": {
   "codemirror_mode": {
    "name": "ipython",
    "version": 3
   },
   "file_extension": ".py",
   "mimetype": "text/x-python",
   "name": "python",
   "nbconvert_exporter": "python",
   "pygments_lexer": "ipython3",
   "version": "3.10.14"
  }
 },
 "nbformat": 4,
 "nbformat_minor": 5
}
