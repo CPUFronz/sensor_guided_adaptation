{
 "cells": [
  {
   "cell_type": "code",
   "execution_count": 1,
   "id": "3c7f3bfd-d924-4daf-913b-5d8d6f7e45e5",
   "metadata": {},
   "outputs": [],
   "source": [
    "import os\n",
    "import re\n",
    "import wandb\n",
    "import pandas as pd"
   ]
  },
  {
   "cell_type": "code",
   "execution_count": 2,
   "id": "923e42ed-0446-402d-a022-cc3b5e91bb55",
   "metadata": {},
   "outputs": [],
   "source": [
    "from constants import WANDB_PROJECT"
   ]
  },
  {
   "cell_type": "code",
   "execution_count": 3,
   "id": "f7889013-3167-4ab7-8ae2-5539a284b274",
   "metadata": {},
   "outputs": [
    {
     "name": "stdout",
     "output_type": "stream",
     "text": [
      "CPU times: user 1.79 s, sys: 57.1 ms, total: 1.85 s\n",
      "Wall time: 4min 9s\n"
     ]
    }
   ],
   "source": [
    "%%time\n",
    "api = wandb.Api(timeout=30)\n",
    "runs = api.runs(WANDB_PROJECT)\n",
    "\n",
    "pattern = r\"^(.*?)\\s(.*?)\\s(.*)$\"\n",
    "df = pd.DataFrame()\n",
    "df_cap = pd.DataFrame()\n",
    "\n",
    "for run in runs:\n",
    "    if run.state == 'running' or 'N=' in run.name or '4x' in run.name:\n",
    "        continue\n",
    "    \n",
    "    tmp_df = pd.DataFrame(run.scan_history())\n",
    "    tmp_df['id'] = run.id\n",
    "    \n",
    "    match = re.match(pattern, run.name)\n",
    "    if match:\n",
    "        dataset = match.group(1)\n",
    "        transformation = match.group(2)\n",
    "        method = match.group(3)\n",
    "        tmp_df['dataset'] = dataset\n",
    "        tmp_df['transformation'] = transformation\n",
    "        tmp_df['method'] = method\n",
    "        \n",
    "        df = pd.concat([df, tmp_df])\n",
    "\n",
    "df = df.drop(columns=['_runtime', '_timestamp'])\n",
    "df = df.drop(columns=['_step'])"
   ]
  },
  {
   "cell_type": "code",
   "execution_count": 4,
   "id": "1d2a08f4-414a-414c-8550-ecf91b77ad39",
   "metadata": {},
   "outputs": [],
   "source": [
    "# rotation only\n",
    "dff = df.drop(columns=['Accuracy per Scale Factor', 'Angle', 'Scale Factor', 'train_accuracy',\n",
    "                       'learning_rate', 'test_accuracy', 'test_loss', 'train_loss', 'id']).dropna()"
   ]
  },
  {
   "cell_type": "code",
   "execution_count": 5,
   "id": "287e4da5-f861-435c-ba0a-1bd9cf1a6572",
   "metadata": {},
   "outputs": [
    {
     "name": "stdout",
     "output_type": "stream",
     "text": [
      "GTSRB   Inverse: 0.06208665497448973, SCN: 0.043378241921768645\n",
      "CIFAR10 Inverse: 0.014304641812865393, SCN: 0.07565366867690049\n"
     ]
    }
   ],
   "source": [
    "for ds in ['GTSRB', 'CIFAR10']:\n",
    "    dfg = dff.loc[dff['dataset'] == ds].groupby(['dataset', 'transformation', 'method']).mean()\n",
    "    \n",
    "    da_mean = dfg.query('method == \"DA\"').mean().mean()\n",
    "    inverse_mean = dfg.query('method == \"Inverse\"').mean().mean()\n",
    "    scn_mean = dfg.query('method == \"SCN D=3\" or method == \"SCN D=5\t\"').mean().mean()\n",
    "    \n",
    "    print(f'{ds:7} Inverse: {inverse_mean - da_mean}, SCN: {scn_mean - da_mean}')"
   ]
  }
 ],
 "metadata": {
  "kernelspec": {
   "display_name": "Python 3 (ipykernel)",
   "language": "python",
   "name": "python3"
  },
  "language_info": {
   "codemirror_mode": {
    "name": "ipython",
    "version": 3
   },
   "file_extension": ".py",
   "mimetype": "text/x-python",
   "name": "python",
   "nbconvert_exporter": "python",
   "pygments_lexer": "ipython3",
   "version": "3.10.12"
  }
 },
 "nbformat": 4,
 "nbformat_minor": 5
}
